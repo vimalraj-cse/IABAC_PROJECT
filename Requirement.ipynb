{
 "cells": [
  {
   "cell_type": "markdown",
   "id": "61f245c4",
   "metadata": {},
   "source": [
    "# Employee Performance Analysis  \n",
    "### INX Future Inc.\n",
    "\n",
    "| **Field**                 | **Details**                               |\n",
    "|---------------------------|-------------------------------------------|\n",
    "| **Candidate Name**        | Vimal Raj J                            |\n",
    "| **Candidate E-mail**      | mrvimalofficiall@gmail.com                 |\n",
    "| **REP Name**              | DataMites™ Solutions Pvt Ltd             |\n",
    "| **Venue Name**            | Open Project                             |\n",
    "| **Exam Country**          | India                                    |\n",
    "| **Assessment ID**         | E10901-PR2-V18                          |\n",
    "| **Module**                | Certified Data Scientist - Project       |\n",
    "| **Language**              | English                                  |\n",
    "| **Exam Format**           | Open Project - IABAC™ Project Submission |\n",
    "| **Submission Deadline**   | 08-Apr-2025                             |\n",
    "| **Registered Trainer**    | Ashok Kumar A                                    |\n",
    "| **Project Assessment**    | IABAC™                                   |\n"
   ]
  },
  {
   "cell_type": "markdown",
   "id": "0d822ad4",
   "metadata": {},
   "source": [
    "# **1. Requirement**\n",
    "The data for this project was provided by **IABAC™** and is based on **INX Future Inc.** (referred to as INX). INX is a leading data analytics and automation solutions provider with over 15 years of global presence and has been consistently rated among the top 20 best employers over the past 5 years.  \n",
    "*Note: The data is not sourced from a real organization.*  \n",
    "\n",
    "The entire project was conducted in **Jupyter Notebook** using the **Python** programming platform.  "
   ]
  },
  {
   "cell_type": "code",
   "execution_count": null,
   "id": "c274803b",
   "metadata": {},
   "outputs": [],
   "source": []
  }
 ],
 "metadata": {
  "kernelspec": {
   "display_name": "Python 3 (ipykernel)",
   "language": "python",
   "name": "python3"
  },
  "language_info": {
   "codemirror_mode": {
    "name": "ipython",
    "version": 3
   },
   "file_extension": ".py",
   "mimetype": "text/x-python",
   "name": "python",
   "nbconvert_exporter": "python",
   "pygments_lexer": "ipython3",
   "version": "3.10.9"
  }
 },
 "nbformat": 4,
 "nbformat_minor": 5
}
